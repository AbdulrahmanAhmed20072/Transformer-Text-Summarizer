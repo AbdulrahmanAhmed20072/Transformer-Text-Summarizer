{
  "nbformat": 4,
  "nbformat_minor": 0,
  "metadata": {
    "colab": {
      "provenance": [],
      "collapsed_sections": [
        "ArVLRskqvfJF",
        "PDmSrq1Xv-zH",
        "XCGjt2f0q5Jc",
        "SUlP5YqYt97C",
        "6VNjDpfw-wxD",
        "PA6qPHI01MzV",
        "g_Zlfy6xrgew",
        "sPom3AHZwmFi",
        "XZc-xsO7PITJ"
      ],
      "gpuType": "T4"
    },
    "kernelspec": {
      "name": "python3",
      "display_name": "Python 3"
    },
    "language_info": {
      "name": "python"
    },
    "accelerator": "GPU"
  },
  "cells": [
    {
      "cell_type": "markdown",
      "source": [
        "#Import the Dataset\n"
      ],
      "metadata": {
        "id": "ArVLRskqvfJF"
      }
    },
    {
      "cell_type": "code",
      "source": [
        "!pip install -q dlai-grader==1.20.0 tensorflow==2.18.0 numpy==1.26.4 pandas==2.2.2"
      ],
      "metadata": {
        "id": "aGfMext9-b19"
      },
      "execution_count": 64,
      "outputs": []
    },
    {
      "cell_type": "code",
      "source": [
        "import tensorflow as tf\n",
        "import pandas as pd\n",
        "import numpy as np\n",
        "import matplotlib.pyplot as plt\n",
        "import time\n",
        "\n",
        "from utils_transformer import get_train_test_data, preprocess\n",
        "\n",
        "tf.keras.utils.set_random_seed(10)"
      ],
      "metadata": {
        "id": "R5T6KMkmcYRj"
      },
      "execution_count": 65,
      "outputs": []
    },
    {
      "cell_type": "code",
      "source": [
        "train_data, test_data = get_train_test_data(\".\")"
      ],
      "metadata": {
        "id": "2qM8RcSZL4qy"
      },
      "execution_count": 68,
      "outputs": []
    },
    {
      "cell_type": "markdown",
      "source": [
        "#Preprocess the data"
      ],
      "metadata": {
        "id": "OemuUGMAvlXs"
      }
    },
    {
      "cell_type": "code",
      "source": [
        "example_summary, example_dialogue = train_data.iloc[10]\n",
        "\n",
        "print(f\"dialogue:\\n{example_dialogue}\\n\")\n",
        "print(f\"summary:\\n{example_summary}\")"
      ],
      "metadata": {
        "colab": {
          "base_uri": "https://localhost:8080/"
        },
        "id": "tj4TTvmrODfi",
        "outputId": "21090715-84f7-480d-e3f2-5e7e6f55ad6d"
      },
      "execution_count": 69,
      "outputs": [
        {
          "output_type": "stream",
          "name": "stdout",
          "text": [
            "dialogue:\n",
            "Lucas: Hey! How was your day?\r\n",
            "Demi: Hey there! \r\n",
            "Demi: It was pretty fine, actually, thank you!\r\n",
            "Demi: I just got promoted! :D\r\n",
            "Lucas: Whoa! Great news!\r\n",
            "Lucas: Congratulations!\r\n",
            "Lucas: Such a success has to be celebrated.\r\n",
            "Demi: I agree! :D\r\n",
            "Demi: Tonight at Death & Co.?\r\n",
            "Lucas: Sure!\r\n",
            "Lucas: See you there at 10pm?\r\n",
            "Demi: Yeah! See you there! :D\n",
            "\n",
            "summary:\n",
            "Demi got promoted. She will celebrate that with Lucas at Death & Co at 10 pm.\n"
          ]
        }
      ]
    },
    {
      "cell_type": "code",
      "source": [
        "summary, document = preprocess(train_data)\n",
        "summary_test, document_test = preprocess(test_data)"
      ],
      "metadata": {
        "id": "E2vjPAfWOH1S"
      },
      "execution_count": 70,
      "outputs": []
    },
    {
      "cell_type": "code",
      "source": [
        "filters = '!\"#$%&()*+,-./:;<=>?@\\\\^_`{|}~\\t\\n'\n",
        "oov_token = '[UNK]'\n",
        "\n",
        "tokenizer = tf.keras.preprocessing.text.Tokenizer(\n",
        "    filters = filters,\n",
        "    lower = False,\n",
        "    oov_token = oov_token\n",
        "    )\n",
        "\n",
        "documents_and_summary = pd.concat([document, summary], ignore_index = True)\n",
        "\n",
        "# create the vocabulary\n",
        "tokenizer.fit_on_texts(documents_and_summary)\n",
        "\n",
        "# convert words to vectors\n",
        "inputs = tokenizer.texts_to_sequences(document)\n",
        "targets = tokenizer.texts_to_sequences(summary)\n",
        "\n",
        "vocab_size = len(tokenizer.word_index) + 1\n",
        "\n",
        "print(f'Size of vocabulary: {vocab_size}')"
      ],
      "metadata": {
        "colab": {
          "base_uri": "https://localhost:8080/"
        },
        "id": "h7SJYTFgQdqB",
        "outputId": "3e8a0dc9-8521-4db3-b508-7e75eb45c1a3"
      },
      "execution_count": 71,
      "outputs": [
        {
          "output_type": "stream",
          "name": "stdout",
          "text": [
            "Size of vocabulary: 34250\n"
          ]
        }
      ]
    },
    {
      "cell_type": "code",
      "source": [
        "encoder_maxlen = 150\n",
        "decoder_maxlen = 50\n",
        "\n",
        "# apply padding\n",
        "inputs = tf.keras.preprocessing.sequence.pad_sequences(\n",
        "    sequences = inputs,\n",
        "    maxlen = encoder_maxlen,\n",
        "    padding = 'post',\n",
        "    truncating = 'post')\n",
        "\n",
        "targets = tf.keras.preprocessing.sequence.pad_sequences(\n",
        "    sequences = targets,\n",
        "    maxlen = decoder_maxlen,\n",
        "    padding = 'post',\n",
        "    truncating = 'post')"
      ],
      "metadata": {
        "id": "NcmeNa0HUdKU"
      },
      "execution_count": 72,
      "outputs": []
    },
    {
      "cell_type": "code",
      "source": [
        "# convert vectors to float32\n",
        "inputs = tf.cast(inputs, tf.float32)\n",
        "targets = tf.cast(targets, tf.float32)"
      ],
      "metadata": {
        "id": "kGo9opQjUiEZ"
      },
      "execution_count": 73,
      "outputs": []
    },
    {
      "cell_type": "code",
      "source": [
        "BUFFER_SIZE = 10000\n",
        "batch_size = 64\n",
        "\n",
        "# create the dataset\n",
        "dataset = tf.data.Dataset.from_tensor_slices(\n",
        "    tensors = (inputs, targets)).shuffle(BUFFER_SIZE).batch(batch_size)"
      ],
      "metadata": {
        "id": "Le4wOnR4WhSo"
      },
      "execution_count": 74,
      "outputs": []
    },
    {
      "cell_type": "code",
      "source": [
        "for i in dataset.take(1):\n",
        "    print(f\"first input sample shape: {i[0].shape}\")\n",
        "    print(f\"first target sample shape: {i[1].shape}\")"
      ],
      "metadata": {
        "colab": {
          "base_uri": "https://localhost:8080/"
        },
        "id": "HLLKmoDSXmAH",
        "outputId": "9cc37774-6783-4cf3-c3c9-061a4016fc26"
      },
      "execution_count": 75,
      "outputs": [
        {
          "output_type": "stream",
          "name": "stdout",
          "text": [
            "first input sample shape: (64, 150)\n",
            "first target sample shape: (64, 50)\n"
          ]
        }
      ]
    },
    {
      "cell_type": "markdown",
      "source": [
        "#Positional Encoding"
      ],
      "metadata": {
        "id": "PDmSrq1Xv-zH"
      }
    },
    {
      "cell_type": "code",
      "source": [
        "def positional_encoding(positions, d_model):\n",
        "\n",
        "    position = np.arange(positions)[:, np.newaxis]\n",
        "    k = np.arange(d_model)[np.newaxis, :]\n",
        "    i = k // 2\n",
        "\n",
        "    # initialize a matrix angle_rads of all the angles\n",
        "    angle_rates = 1 / np.power(10000, (2 * i) / np.float32(d_model))\n",
        "    angle_rads = position * angle_rates\n",
        "\n",
        "    # apply sin to even indices in the array; 2i\n",
        "    angle_rads[:, 0::2] = np.sin(angle_rads[:, 0::2])\n",
        "\n",
        "    # apply cos to odd indices in the array; 2i+1\n",
        "    angle_rads[:, 1::2] = np.cos(angle_rads[:, 1::2])\n",
        "\n",
        "    pos_encoding = angle_rads[np.newaxis, ...]\n",
        "\n",
        "    return tf.cast(pos_encoding, dtype=tf.float32)"
      ],
      "metadata": {
        "id": "8qMi6xqQZrZc"
      },
      "execution_count": 76,
      "outputs": []
    },
    {
      "cell_type": "markdown",
      "source": [
        "#Masking\n"
      ],
      "metadata": {
        "id": "baZ9PqpFv2MI"
      }
    },
    {
      "cell_type": "code",
      "source": [
        "def create_padding_mask(decoder_token_ids):\n",
        "\n",
        "    \"Creates a matrix mask for the padding cells\"\n",
        "\n",
        "    seq = 1 - tf.cast(tf.equal(decoder_token_ids, 0), decoder_token_ids.dtype)\n",
        "\n",
        "    return seq[:, tf.newaxis, :]"
      ],
      "metadata": {
        "id": "a-IfDBs3t45M"
      },
      "execution_count": 77,
      "outputs": []
    },
    {
      "cell_type": "code",
      "source": [
        "create_padding_mask(tf.constant([[1,2,0],\n",
        "                                 [3,0,0]],dtype = tf.float32))"
      ],
      "metadata": {
        "colab": {
          "base_uri": "https://localhost:8080/"
        },
        "id": "W398tRdNwjAc",
        "outputId": "bf5ccb14-8a92-4a85-ca6a-01ba01ab7096"
      },
      "execution_count": 78,
      "outputs": [
        {
          "output_type": "execute_result",
          "data": {
            "text/plain": [
              "<tf.Tensor: shape=(2, 1, 3), dtype=float32, numpy=\n",
              "array([[[1., 1., 0.]],\n",
              "\n",
              "       [[1., 0., 0.]]], dtype=float32)>"
            ]
          },
          "metadata": {},
          "execution_count": 78
        }
      ]
    },
    {
      "cell_type": "code",
      "source": [
        "def create_look_ahead_mask(sequence_length):\n",
        "\n",
        "    \"Returns a lower triangular matrix filled with ones\"\n",
        "\n",
        "    ones = tf.ones((1, sequence_length, sequence_length))\n",
        "\n",
        "    # num_lower = -1 means fill under diagonal with ones,\n",
        "    # num_upper = 0 means let upper the diagonal with zeros\n",
        "    return tf.linalg.band_part(ones, num_lower = -1, num_upper = 0)"
      ],
      "metadata": {
        "id": "S6DKN4gqwxau"
      },
      "execution_count": 79,
      "outputs": []
    },
    {
      "cell_type": "code",
      "source": [
        "a = tf.constant([[1,2,0], [3,0,0], [1,2,1]], dtype = tf.float32)\n",
        "\n",
        "create_look_ahead_mask(a.shape[-2])"
      ],
      "metadata": {
        "colab": {
          "base_uri": "https://localhost:8080/"
        },
        "id": "d_gdeP0-z0NJ",
        "outputId": "9190c09f-01e2-4583-9c63-921cc23f36ef"
      },
      "execution_count": 80,
      "outputs": [
        {
          "output_type": "execute_result",
          "data": {
            "text/plain": [
              "<tf.Tensor: shape=(1, 3, 3), dtype=float32, numpy=\n",
              "array([[[1., 0., 0.],\n",
              "        [1., 1., 0.],\n",
              "        [1., 1., 1.]]], dtype=float32)>"
            ]
          },
          "metadata": {},
          "execution_count": 80
        }
      ]
    },
    {
      "cell_type": "markdown",
      "source": [
        "#self-attention"
      ],
      "metadata": {
        "id": "XCGjt2f0q5Jc"
      }
    },
    {
      "cell_type": "code",
      "source": [
        "def scaled_dot_product_attention(q, k, v, mask):\n",
        "\n",
        "    align = tf.matmul(q, k, transpose_b = True)\n",
        "\n",
        "    dk = tf.cast(k.shape[-1], align.dtype)\n",
        "    scaled_align = align / tf.math.sqrt(dk)\n",
        "\n",
        "    # musk should be applied before softmax\n",
        "    if mask is not None:\n",
        "        scaled_align += (1.0 - mask) * -1e9\n",
        "\n",
        "    weights = tf.nn.softmax(scaled_align)\n",
        "\n",
        "    context = tf.matmul(weights, v)\n",
        "\n",
        "    return context, weights"
      ],
      "metadata": {
        "id": "I41x3D1-0HWP"
      },
      "execution_count": 81,
      "outputs": []
    },
    {
      "cell_type": "code",
      "source": [
        "q = tf.constant([[1,2,0], [3,0,0], [1,2,1]], dtype = tf.float32)\n",
        "\n",
        "k = tf.constant([[1,2,0], [3,0,0], [1,2,1]], dtype = tf.float32)\n",
        "\n",
        "v = tf.constant([[1,2,0], [3,0,0], [1,2,1]], dtype = tf.float32)\n",
        "\n",
        "scaled_dot_product_attention(q, k, v, None)"
      ],
      "metadata": {
        "colab": {
          "base_uri": "https://localhost:8080/"
        },
        "id": "0_0POlTwXjt6",
        "outputId": "02ce58d1-0d6f-4f2b-cccf-4615856aab08"
      },
      "execution_count": 82,
      "outputs": [
        {
          "output_type": "execute_result",
          "data": {
            "text/plain": [
              "(<tf.Tensor: shape=(3, 3), dtype=float32, numpy=\n",
              " array([[1.2722516 , 1.7277484 , 0.4319371 ],\n",
              "        [2.8821719 , 0.11782812, 0.02945703],\n",
              "        [1.203556  , 1.7964439 , 0.57527304]], dtype=float32)>,\n",
              " <tf.Tensor: shape=(3, 3), dtype=float32, numpy=\n",
              " array([[0.4319371 , 0.1361258 , 0.4319371 ],\n",
              "        [0.02945703, 0.9410859 , 0.02945703],\n",
              "        [0.32294896, 0.10177799, 0.57527304]], dtype=float32)>)"
            ]
          },
          "metadata": {},
          "execution_count": 82
        }
      ]
    },
    {
      "cell_type": "code",
      "source": [
        "# Testing the function\n",
        "q = np.array([[1, 1, 0, 1],\n",
        "              [0, 1, 1, 1],\n",
        "              [1, 0, 1, 1]]).astype(np.float32)\n",
        "\n",
        "k = np.array([[1, 1, 0, 1],\n",
        "              [1, 0, 1, 1],\n",
        "              [1, 1, 1, 0],\n",
        "              [0, 0, 0, 1],\n",
        "              [0, 1, 0, 1]]).astype(np.float32)\n",
        "\n",
        "v = np.array([[0, 0],\n",
        "              [1, 0],\n",
        "              [1, 0],\n",
        "              [1, 1],\n",
        "              [1, 1]]).astype(np.float32)\n",
        "\n",
        "mask = np.array([[[0, 1, 0, 1, 1],\n",
        "                  [1, 0, 0, 1, 1],\n",
        "                  [1, 1, 0, 1, 1]]])\n",
        "\n",
        "ou, atw = scaled_dot_product_attention(q, k, v, mask)\n",
        "ou = np.around(ou, decimals=2)\n",
        "atw = np.around(atw, decimals=2)\n",
        "\n",
        "print(f\"Output:\\n {ou}\")\n",
        "print(f\"\\nAttention weigths:\\n {atw}\")"
      ],
      "metadata": {
        "colab": {
          "base_uri": "https://localhost:8080/"
        },
        "id": "Ff-Dpx2cXnxq",
        "outputId": "30a22bc6-5003-462a-b568-e503889a2c00"
      },
      "execution_count": 83,
      "outputs": [
        {
          "output_type": "stream",
          "name": "stdout",
          "text": [
            "Output:\n",
            " [[[1.   0.62]\n",
            "  [0.62 0.62]\n",
            "  [0.74 0.31]]]\n",
            "\n",
            "Attention weigths:\n",
            " [[[0.   0.38 0.   0.23 0.38]\n",
            "  [0.38 0.   0.   0.23 0.38]\n",
            "  [0.26 0.43 0.   0.16 0.16]]]\n"
          ]
        }
      ]
    },
    {
      "cell_type": "markdown",
      "source": [
        "#Encoder"
      ],
      "metadata": {
        "id": "SUlP5YqYt97C"
      }
    },
    {
      "cell_type": "code",
      "source": [
        "def FullyConnected(embedding_dim, fully_connected_dim):\n",
        "\n",
        "    ffnn = tf.keras.Sequential([\n",
        "        tf.keras.layers.Dense(fully_connected_dim, activation='relu'),\n",
        "        tf.keras.layers.Dense(embedding_dim)])\n",
        "\n",
        "    return ffnn"
      ],
      "metadata": {
        "id": "Miqk9W_gbSMC"
      },
      "execution_count": 85,
      "outputs": []
    },
    {
      "cell_type": "code",
      "source": [
        "class EncoderLayer(tf.keras.layers.Layer):\n",
        "\n",
        "    def __init__(self, num_heads, embedding_dim,\n",
        "                 fully_connected_dim, dropout_rate = 0.1,\n",
        "                 layernorm_eps = 1e-6):\n",
        "\n",
        "        super().__init__()\n",
        "\n",
        "        self.mha = tf.keras.layers.MultiHeadAttention(\n",
        "                num_heads = num_heads,\n",
        "                key_dim = embedding_dim,\n",
        "                dropout = dropout_rate,\n",
        "            )\n",
        "\n",
        "        self.ffn = FullyConnected(\n",
        "                embedding_dim,\n",
        "                fully_connected_dim\n",
        "            )\n",
        "\n",
        "        self.layernorm1 = tf.keras.layers.LayerNormalization(epsilon = layernorm_eps)\n",
        "        self.layernorm2 = tf.keras.layers.LayerNormalization(epsilon = layernorm_eps)\n",
        "\n",
        "        self.dropout_ffn = tf.keras.layers.Dropout(dropout_rate)\n",
        "\n",
        "    def __call__(self, x, is_training, mask):\n",
        "\n",
        "        # since we are in encoder, use the same i/p for qkv\n",
        "        self_mha_output = self.mha(\n",
        "            query = x, key = x, value = x, attention_mask = mask)\n",
        "\n",
        "        # residual connection and normalization\n",
        "        skip_x_attention = self.layernorm1(x + self_mha_output)\n",
        "\n",
        "        # feed forward nn\n",
        "        ffn_output = self.ffn(skip_x_attention)\n",
        "\n",
        "        # apply dropout just for training\n",
        "        ffn_output = self.dropout_ffn(ffn_output, training = is_training)\n",
        "\n",
        "        # another residual connection and normalization\n",
        "        encoder_layer_out = self.layernorm2(skip_x_attention + ffn_output)\n",
        "\n",
        "        return encoder_layer_out"
      ],
      "metadata": {
        "id": "IEqJKUAP6o1i"
      },
      "execution_count": 86,
      "outputs": []
    },
    {
      "cell_type": "code",
      "source": [
        "x = tf.random.uniform((1,3,5))\n",
        "\n",
        "E = EncoderLayer(num_heads = 1,\n",
        "                 embedding_dim = 5,\n",
        "                 fully_connected_dim= 120)\n",
        "\n",
        "E(x = x, is_training = True, mask = None)"
      ],
      "metadata": {
        "colab": {
          "base_uri": "https://localhost:8080/"
        },
        "id": "YFg4WIqRZY3C",
        "outputId": "b8dba347-014d-4952-bfe6-ee6c9490695f"
      },
      "execution_count": 87,
      "outputs": [
        {
          "output_type": "execute_result",
          "data": {
            "text/plain": [
              "<tf.Tensor: shape=(1, 3, 5), dtype=float32, numpy=\n",
              "array([[[ 0.7081839 ,  0.41457322, -1.5866754 ,  1.1543071 ,\n",
              "         -0.6903888 ],\n",
              "        [ 1.313329  , -0.37334985, -1.6875824 ,  0.30907148,\n",
              "          0.43853182],\n",
              "        [ 1.1260601 , -0.1944412 , -0.70851934,  1.1468799 ,\n",
              "         -1.3699793 ]]], dtype=float32)>"
            ]
          },
          "metadata": {},
          "execution_count": 87
        }
      ]
    },
    {
      "cell_type": "code",
      "source": [
        "class Encoder(tf.keras.layers.Layer):\n",
        "\n",
        "    \"\"\"\n",
        "      the full encoder starts with passing the i/p to embedding layer\n",
        "      and ends with a contextual representation for the sequance\n",
        "    \"\"\"\n",
        "\n",
        "    def __init__(self, num_layers, vocab_size,\n",
        "                 embedding_dim, maximum_position_encoding,\n",
        "                 num_heads, fully_connected_dim,\n",
        "                 dropout_rate=0.1, layernorm_eps=1e-6):\n",
        "\n",
        "        super().__init__()\n",
        "\n",
        "        self.embedding_dim = embedding_dim\n",
        "        self.num_layers = num_layers\n",
        "\n",
        "        self.embedding = tf.keras.layers.Embedding(\n",
        "            input_dim = vocab_size,\n",
        "            output_dim = embedding_dim,\n",
        "            mask_zero = True # ignaoring 0 in calcualtions\n",
        "        )\n",
        "\n",
        "        self.pos_encoding = positional_encoding(\n",
        "            maximum_position_encoding,\n",
        "            embedding_dim\n",
        "        )\n",
        "\n",
        "        # repreating encoder layer for certain num of layers\n",
        "        self.enc_layer = [\n",
        "            EncoderLayer(num_heads,\n",
        "                         embedding_dim,\n",
        "                         fully_connected_dim,\n",
        "                         dropout_rate,\n",
        "                         layernorm_eps)\n",
        "\n",
        "            for _ in range(num_layers)\n",
        "            ]\n",
        "\n",
        "        self.dropout = tf.keras.layers.Dropout(dropout_rate)\n",
        "\n",
        "    def call(self, x, is_training, mask):\n",
        "\n",
        "        seq_len = tf.shape(x)[1]\n",
        "\n",
        "        x = self.embedding(x)\n",
        "\n",
        "        # this scaling process helps maintain a good balance between\n",
        "        # the learned embeddings and the fixed positional encodings\n",
        "        # because the embedding is a slightly smaller than the positional encoding values\n",
        "        x *= tf.math.sqrt(tf.cast(self.embedding_dim, tf.float32))\n",
        "\n",
        "        # add positional encoding values\n",
        "        x += self.pos_encoding[:, :seq_len, :]\n",
        "\n",
        "        x = self.dropout(x, training=is_training)\n",
        "\n",
        "        # iterate over encoder layer for n times\n",
        "        for i in range(self.num_layers):\n",
        "            x = self.enc_layer[i](x, is_training, mask)\n",
        "\n",
        "        return x # (batch_size, input_seq_len, embedding_dim)"
      ],
      "metadata": {
        "id": "Jmt0Ul6-_miu"
      },
      "execution_count": 88,
      "outputs": []
    },
    {
      "cell_type": "code",
      "source": [
        "x = tf.random.uniform((1,2))\n",
        "\n",
        "E = Encoder(num_layers=2, vocab_size=vocab_size,\n",
        "                 embedding_dim=10,maximum_position_encoding=100,\n",
        "                 num_heads=8, fully_connected_dim=150,\n",
        "                 dropout_rate=0.1, layernorm_eps=1e-6)\n",
        "\n",
        "encoder_out = E(x, is_training = True, mask= None)\n",
        "encoder_out"
      ],
      "metadata": {
        "colab": {
          "base_uri": "https://localhost:8080/"
        },
        "collapsed": true,
        "id": "G9tNl0UoDflS",
        "outputId": "58072c4d-9344-4a48-dff5-a845a7f12733"
      },
      "execution_count": 89,
      "outputs": [
        {
          "output_type": "stream",
          "name": "stderr",
          "text": [
            "/usr/local/lib/python3.11/dist-packages/keras/src/layers/layer.py:393: UserWarning: `build()` was called on layer 'encoder_3', however the layer does not have a `build()` method implemented and it looks like it has unbuilt state. This will cause the layer to be marked as built, despite not being actually built, which may cause failures down the line. Make sure to implement a proper `build()` method.\n",
            "  warnings.warn(\n"
          ]
        },
        {
          "output_type": "execute_result",
          "data": {
            "text/plain": [
              "<tf.Tensor: shape=(1, 2, 10), dtype=float32, numpy=\n",
              "array([[[-0.30631414,  1.0099329 , -1.2527146 ,  0.72792435,\n",
              "         -0.4140447 ,  0.3989549 , -1.2532282 ,  0.41933027,\n",
              "         -1.162495  ,  1.8326545 ],\n",
              "        [-0.20135403, -0.26914924, -0.4888366 ,  0.5466636 ,\n",
              "         -0.6971479 ,  0.9217518 , -1.1409347 ,  0.2441242 ,\n",
              "         -1.1987865 ,  2.2836695 ]]], dtype=float32)>"
            ]
          },
          "metadata": {},
          "execution_count": 89
        }
      ]
    },
    {
      "cell_type": "markdown",
      "source": [
        "#Decoder"
      ],
      "metadata": {
        "id": "PA6qPHI01MzV"
      }
    },
    {
      "cell_type": "code",
      "source": [
        "class DecoderLayer(tf.keras.layers.Layer):\n",
        "\n",
        "    def __init__(self, embedding_dim, num_heads, fully_connected_dim,\n",
        "                 dropout_rate = 0.1, layernorm_eps = 1e-6):\n",
        "\n",
        "        super().__init__()\n",
        "\n",
        "        self.mha1 = tf.keras.layers.MultiHeadAttention(\n",
        "            num_heads = num_heads,\n",
        "            key_dim = embedding_dim,\n",
        "            dropout = dropout_rate\n",
        "        )\n",
        "\n",
        "        self.mha2 = tf.keras.layers.MultiHeadAttention(\n",
        "            num_heads = num_heads,\n",
        "            key_dim = embedding_dim,\n",
        "            dropout = dropout_rate\n",
        "        )\n",
        "\n",
        "        self.ffn = FullyConnected(\n",
        "            embedding_dim,\n",
        "            fully_connected_dim\n",
        "        )\n",
        "\n",
        "        self.layernorm1 = tf.keras.layers.LayerNormalization(\n",
        "            epsilon = layernorm_eps\n",
        "        )\n",
        "\n",
        "        self.layernorm2 = tf.keras.layers.LayerNormalization(\n",
        "            epsilon = layernorm_eps\n",
        "        )\n",
        "\n",
        "        self.layernorm3 = tf.keras.layers.LayerNormalization(\n",
        "            epsilon = layernorm_eps\n",
        "        )\n",
        "\n",
        "        self.dropout = tf.keras.layers.Dropout(\n",
        "            rate = dropout_rate\n",
        "        )\n",
        "\n",
        "    def call(self, x, encoder_output, is_training,\n",
        "             look_ahead_mask, padding_mask):\n",
        "\n",
        "        # masked multi head attention layer\n",
        "        multi_attn_out_1, masked_attention_weights = self.mha1(\n",
        "            query = x,\n",
        "            key = x,\n",
        "            value = x,\n",
        "            attention_mask = look_ahead_mask,\n",
        "            return_attention_scores = True\n",
        "        )\n",
        "\n",
        "        # first residual connection and layer norm\n",
        "        norm_layer_out_1 = self.layernorm1(multi_attn_out_1 + x)\n",
        "\n",
        "        # multi head attention layer\n",
        "        multi_attn_out_2, attention_weights = self.mha2(\n",
        "            query = norm_layer_out_1,\n",
        "            key = encoder_output,\n",
        "            value = encoder_output,\n",
        "            attention_mask = padding_mask,\n",
        "            return_attention_scores=True\n",
        "        )\n",
        "\n",
        "        # second residual connection and layer norm\n",
        "        norm_layer_out_2 = self.layernorm2(multi_attn_out_2 + norm_layer_out_1)\n",
        "\n",
        "        # feed forward nn\n",
        "        ffn_output = self.ffn(norm_layer_out_2)\n",
        "\n",
        "        # dropout layer\n",
        "        ffn_output = self.dropout(ffn_output, training = is_training)\n",
        "\n",
        "        output = self.layernorm3(ffn_output + norm_layer_out_2)\n",
        "\n",
        "        return output, masked_attention_weights, attention_weights"
      ],
      "metadata": {
        "id": "8c3SKvbuyXpn"
      },
      "execution_count": 90,
      "outputs": []
    },
    {
      "cell_type": "code",
      "source": [
        "q = tf.random.uniform((1,3,5))\n",
        "\n",
        "dec = DecoderLayer(num_heads = 1,\n",
        "                 embedding_dim = 5,\n",
        "                 fully_connected_dim = 120)\n",
        "\n",
        "dec_out, masked_attn_weights, attn_weights = dec(q,\n",
        "                                                 encoder_output = encoder_out,\n",
        "                                                 is_training = True,\n",
        "                                                 look_ahead_mask = None,\n",
        "                                                 padding_mask = None)\n",
        "\n",
        "print(f\"q has shape:{q.shape}\")\n",
        "print(f\"Output of encoder has shape:{encoder_out.shape}\\n\")\n",
        "print(f\"Output of decoder layer has shape:{dec_out.shape}\")\n",
        "print(f\"masked attetion Weights has shape:{masked_attn_weights.shape}\")\n",
        "print(f\"attetion Weights has shape:{attn_weights.shape}\")"
      ],
      "metadata": {
        "colab": {
          "base_uri": "https://localhost:8080/"
        },
        "id": "ol_c2BKIBH9k",
        "outputId": "b7bb5d74-c311-4c3e-91e6-257665c2db74"
      },
      "execution_count": 91,
      "outputs": [
        {
          "output_type": "stream",
          "name": "stdout",
          "text": [
            "q has shape:(1, 3, 5)\n",
            "Output of encoder has shape:(1, 2, 10)\n",
            "\n",
            "Output of decoder layer has shape:(1, 3, 5)\n",
            "masked attetion Weights has shape:(1, 1, 3, 3)\n",
            "attetion Weights has shape:(1, 1, 3, 2)\n"
          ]
        }
      ]
    },
    {
      "cell_type": "code",
      "source": [
        "class Decoder(tf.keras.layers.Layer):\n",
        "\n",
        "    \"full decoder\"\n",
        "\n",
        "    def __init__(self,num_layers,embedding_dim,num_heads,\n",
        "                      fully_connected_dim,target_vocab_size,\n",
        "                      maximum_position_encoding,\n",
        "                      dropout_rate=0.1, layernorm_eps=1e-6):\n",
        "\n",
        "        super().__init__()\n",
        "\n",
        "        self.embedding_dim = embedding_dim\n",
        "        self.num_layers = num_layers\n",
        "\n",
        "        self.embedding = tf.keras.layers.Embedding(\n",
        "            input_dim = target_vocab_size,\n",
        "            output_dim = self.embedding_dim\n",
        "        )\n",
        "\n",
        "        self.pos_encoding = positional_encoding(\n",
        "            positions = maximum_position_encoding,\n",
        "            d_model = self.embedding_dim\n",
        "        )\n",
        "\n",
        "        # repreating decoder layer for certain num of layers\n",
        "        self.decoder_layers = [\n",
        "            DecoderLayer(\n",
        "                self.embedding_dim,\n",
        "                num_heads, fully_connected_dim,\n",
        "                dropout_rate=0.1, layernorm_eps=1e-06)\n",
        "\n",
        "            for _ in range(self.num_layers)\n",
        "            ]\n",
        "\n",
        "        self.dropout = tf.keras.layers.Dropout(dropout_rate)\n",
        "\n",
        "    def call(self, x, encoder_output, is_training, look_ahead_mask, padding_mask):\n",
        "\n",
        "        seq_len = tf.shape(x)[1]\n",
        "        all_attention_weights = {}\n",
        "\n",
        "        x = self.embedding(x)\n",
        "\n",
        "        # this scaling process helps maintain a good balance between\n",
        "        # the learned embeddings and the fixed positional encodings\n",
        "        # because the embedding is a slightly smaller than the positional encoding values\n",
        "        x *= tf.math.sqrt(tf.cast(self.embedding_dim, tf.float32))\n",
        "\n",
        "        # add positional encoding\n",
        "        x += self.pos_encoding[:,:seq_len, :]\n",
        "\n",
        "        x = self.dropout(x, training = is_training)\n",
        "\n",
        "        for i in range(self.num_layers):\n",
        "            x, masked_attention_weights, attention_weights = self.decoder_layers[i](\n",
        "                x, encoder_output, is_training = is_training,\n",
        "                look_ahead_mask = look_ahead_mask,\n",
        "                padding_mask = padding_mask\n",
        "            )\n",
        "\n",
        "        all_attention_weights['decoder_layer{}_block1_self_att'.format(i+1)] = masked_attention_weights\n",
        "        all_attention_weights['decoder_layer{}_block2_decenc_att'.format(i+1)] = attention_weights\n",
        "\n",
        "        return x, all_attention_weights"
      ],
      "metadata": {
        "id": "y32-bvpLrO_z"
      },
      "execution_count": 92,
      "outputs": []
    },
    {
      "cell_type": "code",
      "source": [
        "# Test your function!\n",
        "n_layers = 5\n",
        "emb_d = 13\n",
        "n_heads = 17\n",
        "fully_connected_dim = 16\n",
        "target_vocab_size = 300\n",
        "maximum_position_encoding = 6\n",
        "\n",
        "x = np.array([[3, 2, 1, 1], [2, 1, 1, 0], [2, 1, 1, 0]])\n",
        "\n",
        "encoder_test_output = tf.convert_to_tensor(np.random.rand(3, 7, 9))\n",
        "\n",
        "look_ahead_mask = create_look_ahead_mask(x.shape[1])\n",
        "\n",
        "decoder_test = Decoder(\n",
        "    n_layers, emb_d, n_heads, fully_connected_dim, target_vocab_size,maximum_position_encoding)\n",
        "\n",
        "outd, att_weights = decoder_test(\n",
        "    x, encoder_test_output, is_training = False, look_ahead_mask = look_ahead_mask, padding_mask = None)\n",
        "\n",
        "print(f\"Using num_layers={n_layers}, embedding_dim={emb_d} and num_heads={n_heads}:\\n\")\n",
        "print(f\"x has shape:{x.shape}\")\n",
        "print(f\"Output of encoder has shape:{encoder_test_output.shape}\\n\")\n",
        "\n",
        "print(f\"Output of decoder has shape:{outd.shape}\\n\")\n",
        "\n",
        "print(\"Attention weights:\")\n",
        "for name, tensor in att_weights.items():\n",
        "    print(f\"{name} has shape:{tensor.shape}\")"
      ],
      "metadata": {
        "colab": {
          "base_uri": "https://localhost:8080/"
        },
        "id": "j5N5cg2augyR",
        "outputId": "e4224dbe-1b5b-4129-e2e3-3a803c678af1"
      },
      "execution_count": 93,
      "outputs": [
        {
          "output_type": "stream",
          "name": "stdout",
          "text": [
            "Using num_layers=5, embedding_dim=13 and num_heads=17:\n",
            "\n",
            "x has shape:(3, 4)\n",
            "Output of encoder has shape:(3, 7, 9)\n",
            "\n",
            "Output of decoder has shape:(3, 4, 13)\n",
            "\n",
            "Attention weights:\n",
            "decoder_layer5_block1_self_att has shape:(3, 17, 4, 4)\n",
            "decoder_layer5_block2_decenc_att has shape:(3, 17, 4, 7)\n"
          ]
        }
      ]
    },
    {
      "cell_type": "markdown",
      "source": [
        "#Transformer"
      ],
      "metadata": {
        "id": "sPom3AHZwmFi"
      }
    },
    {
      "cell_type": "code",
      "source": [
        "class Transformer(tf.keras.Model):\n",
        "\n",
        "    def __init__(self,\n",
        "                 num_layers,\n",
        "                 input_vocab_size,\n",
        "                 target_vocab_size,\n",
        "                 embedding_dim,\n",
        "                 maximum_position_encoding_input,\n",
        "                 maximum_position_encoding_target,\n",
        "                 num_heads,\n",
        "                 fully_connected_dim,\n",
        "                 dropout_rate=0.1,\n",
        "                 layernorm_eps=1e-06):\n",
        "\n",
        "        super().__init__()\n",
        "\n",
        "        self.encoder = Encoder(num_layers = num_layers,\n",
        "                               vocab_size = input_vocab_size,\n",
        "                               embedding_dim = embedding_dim,\n",
        "                               maximum_position_encoding = maximum_position_encoding_input,\n",
        "                               num_heads = num_heads,\n",
        "                               fully_connected_dim = fully_connected_dim,\n",
        "                               dropout_rate = dropout_rate,\n",
        "                               layernorm_eps = layernorm_eps\n",
        "        )\n",
        "\n",
        "        self.decoder = Decoder(num_layers = num_layers,\n",
        "                               embedding_dim = embedding_dim,\n",
        "                               num_heads = num_heads,\n",
        "                               fully_connected_dim = fully_connected_dim,\n",
        "                               target_vocab_size = target_vocab_size,\n",
        "                               maximum_position_encoding = maximum_position_encoding_target,\n",
        "                               dropout_rate = dropout_rate,\n",
        "                               layernorm_eps = layernorm_eps\n",
        "        )\n",
        "\n",
        "\n",
        "\n",
        "        self.fc = tf.keras.layers.Dense(\n",
        "            target_vocab_size,\n",
        "            activation = \"softmax\"\n",
        "        )\n",
        "\n",
        "\n",
        "    def call(self,input, target, is_training,\n",
        "             enc_padding_mask, dec_padding_mask,\n",
        "             look_ahead_mask):\n",
        "\n",
        "        enc_out = self.encoder(input,\n",
        "                               is_training = is_training,\n",
        "                               mask = enc_padding_mask\n",
        "        )\n",
        "\n",
        "        dec_out, _ = self.decoder(target,\n",
        "                                  enc_out,\n",
        "                                  is_training = is_training,\n",
        "                                  look_ahead_mask = look_ahead_mask,\n",
        "                                  padding_mask = dec_padding_mask\n",
        "        )\n",
        "\n",
        "        output = self.fc(dec_out)\n",
        "\n",
        "        return output"
      ],
      "metadata": {
        "id": "r9c1lmK3jnvo"
      },
      "execution_count": 94,
      "outputs": []
    },
    {
      "cell_type": "code",
      "source": [
        "inp = tf.constant([[2, 3, 1, 3, 0, 0, 0]])\n",
        "tar = tf.constant([[1, 3, 4, 0, 0, 0, 0]])\n",
        "\n",
        "trans = Transformer(\n",
        "    num_layers=1,\n",
        "    input_vocab_size=5,\n",
        "    target_vocab_size=6,\n",
        "    embedding_dim=10,\n",
        "    maximum_position_encoding_input=10,\n",
        "    maximum_position_encoding_target = 10,\n",
        "    num_heads=10,\n",
        "    fully_connected_dim=13\n",
        "    )\n",
        "\n",
        "enc_padding_mask = create_padding_mask(inp)\n",
        "dec_padding_mask = create_padding_mask(tar)\n",
        "look_ahead_mask = create_look_ahead_mask(tar.shape[1])\n",
        "\n",
        "trans(inp, tar, is_training = False,\n",
        "      enc_padding_mask = enc_padding_mask,\n",
        "      dec_padding_mask = dec_padding_mask,\n",
        "      look_ahead_mask = look_ahead_mask)"
      ],
      "metadata": {
        "colab": {
          "base_uri": "https://localhost:8080/"
        },
        "id": "X6VJr9632-ys",
        "outputId": "99e6fe11-4159-4b5b-affa-9b380c853ba6"
      },
      "execution_count": 95,
      "outputs": [
        {
          "output_type": "stream",
          "name": "stderr",
          "text": [
            "/usr/local/lib/python3.11/dist-packages/keras/src/layers/layer.py:393: UserWarning: `build()` was called on layer 'encoder_4', however the layer does not have a `build()` method implemented and it looks like it has unbuilt state. This will cause the layer to be marked as built, despite not being actually built, which may cause failures down the line. Make sure to implement a proper `build()` method.\n",
            "  warnings.warn(\n"
          ]
        },
        {
          "output_type": "execute_result",
          "data": {
            "text/plain": [
              "<tf.Tensor: shape=(1, 7, 6), dtype=float32, numpy=\n",
              "array([[[0.01487851, 0.20799032, 0.16125268, 0.33717978, 0.07287869,\n",
              "         0.20582001],\n",
              "        [0.03978156, 0.20249669, 0.25221854, 0.2504698 , 0.04786408,\n",
              "         0.20716928],\n",
              "        [0.06639344, 0.22112691, 0.19102435, 0.27094004, 0.03723403,\n",
              "         0.21328126],\n",
              "        [0.07335594, 0.25044033, 0.11506843, 0.30594125, 0.04390745,\n",
              "         0.21128659],\n",
              "        [0.06299673, 0.23691863, 0.06678327, 0.35449   , 0.06316341,\n",
              "         0.21564794],\n",
              "        [0.04523607, 0.21091118, 0.04452794, 0.3888606 , 0.0956915 ,\n",
              "         0.21477267],\n",
              "        [0.05040847, 0.23726067, 0.06002739, 0.32277077, 0.11378585,\n",
              "         0.21574683]]], dtype=float32)>"
            ]
          },
          "metadata": {},
          "execution_count": 95
        }
      ]
    },
    {
      "cell_type": "markdown",
      "source": [
        "#Initialize the Model\n"
      ],
      "metadata": {
        "id": "XZc-xsO7PITJ"
      }
    },
    {
      "cell_type": "code",
      "source": [
        "num_layers = 2\n",
        "embedding_dim = 128\n",
        "fully_connected_dim = 128\n",
        "num_heads = 2\n",
        "positional_encoding_length = 256\n",
        "vocab_size = len(tokenizer.word_index) + 1\n",
        "\n",
        "transformer = Transformer(\n",
        "    num_layers = num_layers,\n",
        "    input_vocab_size = vocab_size,\n",
        "    target_vocab_size = vocab_size,\n",
        "    embedding_dim = embedding_dim,\n",
        "    maximum_position_encoding_input = positional_encoding_length,\n",
        "    maximum_position_encoding_target = positional_encoding_length,\n",
        "    num_heads = num_heads,\n",
        "    fully_connected_dim = fully_connected_dim\n",
        ")"
      ],
      "metadata": {
        "id": "dalbPJChAbRi"
      },
      "execution_count": 96,
      "outputs": []
    },
    {
      "cell_type": "markdown",
      "source": [
        "#Prepare for Training the Model"
      ],
      "metadata": {
        "id": "dBPU7zama70k"
      }
    },
    {
      "cell_type": "code",
      "source": [
        "class CustomSchedule(tf.keras.optimizers.schedules.LearningRateSchedule):\n",
        "\n",
        "    def __init__(self, d_model, warmup_steps = 4000):\n",
        "\n",
        "        super(CustomSchedule, self).__init__()\n",
        "\n",
        "        self.d_model = tf.cast(d_model, dtype=tf.float32)\n",
        "        self.warmup_steps = warmup_steps\n",
        "\n",
        "    def __call__(self, step):\n",
        "\n",
        "        step = tf.cast(step, dtype=tf.float32)\n",
        "        arg1 = tf.math.rsqrt(step)\n",
        "        arg2 = step * (self.warmup_steps ** -1.5)\n",
        "\n",
        "        return tf.math.rsqrt(self.d_model) * tf.math.minimum(arg1, arg2)\n",
        "\n",
        "learning_rate = CustomSchedule(embedding_dim)\n",
        "\n",
        "optimizer = tf.keras.optimizers.Adam(learning_rate, beta_1=0.9, beta_2=0.98, epsilon=1e-9)"
      ],
      "metadata": {
        "id": "YmPodIUBQ1Mf"
      },
      "execution_count": 97,
      "outputs": []
    },
    {
      "cell_type": "code",
      "source": [
        "steps=500000\n",
        "\n",
        "plt.plot(learning_rate(range(steps)))"
      ],
      "metadata": {
        "colab": {
          "base_uri": "https://localhost:8080/",
          "height": 447
        },
        "id": "sTvJ8oUcmVGj",
        "outputId": "85f4b991-7e3e-45b0-a8be-61624745ae60"
      },
      "execution_count": 98,
      "outputs": [
        {
          "output_type": "execute_result",
          "data": {
            "text/plain": [
              "[<matplotlib.lines.Line2D at 0x7b9603129bd0>]"
            ]
          },
          "metadata": {},
          "execution_count": 98
        },
        {
          "output_type": "display_data",
          "data": {
            "text/plain": [
              "<Figure size 640x480 with 1 Axes>"
            ],
            "image/png": "[encoded data removed]"
          },
          "metadata": {}
        }
      ]
    },
    {
      "cell_type": "code",
      "source": [
        "def masked_loss(true, pred):\n",
        "\n",
        "    loss_func = tf.keras.losses.SparseCategoricalCrossentropy(\n",
        "        from_logits = False, # softmax used\n",
        "        reduction = 'none'\n",
        "    )\n",
        "\n",
        "    # mask to ignore padding in y_true\n",
        "    mask = tf.cast(tf.logical_not(tf.equal(true, 0)), loss_func.dtype)\n",
        "\n",
        "    loss = loss_func(true, pred)\n",
        "\n",
        "    # apply mask\n",
        "    loss *= mask\n",
        "\n",
        "    return tf.reduce_sum(loss, axis = -1) / tf.reduce_sum(mask , axis=-1)\n",
        "\n",
        "train_loss = tf.keras.metrics.Mean(name = 'train_loss')\n",
        "\n",
        "losses = []"
      ],
      "metadata": {
        "id": "yv6-zIodqIBh"
      },
      "execution_count": 99,
      "outputs": []
    },
    {
      "cell_type": "code",
      "source": [
        "@tf.function\n",
        "def train_step(model, input, target):\n",
        "\n",
        "    \"\"\"custom training function alternative to using model.compile() and model.fit(),\n",
        "        but with added extra flexibility.\"\"\"\n",
        "\n",
        "    # prepair target\n",
        "    tar_inp = target[:, :-1] # input target wothout EOS\n",
        "    tar_real = target[:, 1:] # actual target without SOS\n",
        "\n",
        "    # maskes\n",
        "    enc_padding_mask = create_padding_mask(input)\n",
        "    dec_padding_mask = create_padding_mask(input)\n",
        "    look_ahead_mask = create_look_ahead_mask(tf.shape(tar_inp)[1]) # target seq_len\n",
        "\n",
        "    # TensorFlow starts recording all operations that involve tensors\n",
        "    with tf.GradientTape() as tape:\n",
        "\n",
        "        # Forward Pass\n",
        "        predictions = model(\n",
        "            input,\n",
        "            tar_inp,\n",
        "            is_training=True,\n",
        "            enc_padding_mask = enc_padding_mask,\n",
        "            dec_padding_mask = dec_padding_mask,\n",
        "            look_ahead_mask = look_ahead_mask\n",
        "        )\n",
        "\n",
        "        # loss\n",
        "        loss = masked_loss(tar_real, predictions)\n",
        "\n",
        "    # After the block ends, use tape.gradient() to automatically compute gradients\n",
        "    gradient = tape.gradient(loss, model.trainable_variables)\n",
        "\n",
        "    # update parameters\n",
        "    optimizer.apply_gradients(zip(gradient, model.trainable_variables))\n",
        "\n",
        "    # update loss\n",
        "    train_loss(loss)"
      ],
      "metadata": {
        "id": "QOV_PDW0Vdjg"
      },
      "execution_count": 100,
      "outputs": []
    },
    {
      "cell_type": "code",
      "source": [
        "train_step(transformer, list(dataset.take(1))[0][0], list(dataset.take(1))[0][1])"
      ],
      "metadata": {
        "id": "OJNbbjJ3JMpD",
        "colab": {
          "base_uri": "https://localhost:8080/"
        },
        "outputId": "d6f30168-d842-4dfa-85cc-7f16c1223f36"
      },
      "execution_count": 102,
      "outputs": [
        {
          "output_type": "stream",
          "name": "stderr",
          "text": [
            "/usr/local/lib/python3.11/dist-packages/keras/src/layers/layer.py:393: UserWarning: `build()` was called on layer 'encoder_5', however the layer does not have a `build()` method implemented and it looks like it has unbuilt state. This will cause the layer to be marked as built, despite not being actually built, which may cause failures down the line. Make sure to implement a proper `build()` method.\n",
            "  warnings.warn(\n"
          ]
        }
      ]
    },
    {
      "cell_type": "markdown",
      "source": [
        "#Summarization\n"
      ],
      "metadata": {
        "id": "xlA55_edSTCL"
      }
    },
    {
      "cell_type": "code",
      "source": [
        "def next_word(model, encoder_input, output):\n",
        "\n",
        "    \"A function for predicting the next word in the summary\"\n",
        "\n",
        "    # used in encoder multi head attention layer\n",
        "    enc_padding_mask = create_padding_mask(encoder_input)\n",
        "\n",
        "    # used in decoder masked multi head attention layer\n",
        "    look_ahead_mask = create_look_ahead_mask(tf.shape(output)[1])\n",
        "\n",
        "    # used in decoder multi head attention layer\n",
        "    # we need to pad the encoder positions that comes from the encoder\n",
        "    dec_padding_mask = create_padding_mask(encoder_input)\n",
        "\n",
        "    predictions = model(\n",
        "        encoder_input,\n",
        "        output,\n",
        "        is_training = False,\n",
        "        enc_padding_mask = enc_padding_mask,\n",
        "        dec_padding_mask = dec_padding_mask,\n",
        "        look_ahead_mask = look_ahead_mask)\n",
        "\n",
        "    # select the hidden state for the last token\n",
        "    predictions = predictions[:, -1:, :]\n",
        "\n",
        "    predicted_id = tf.cast(tf.argmax(predictions ,axis = -1), tf.int32)\n",
        "\n",
        "    return predicted_id"
      ],
      "metadata": {
        "id": "bpNWLrBGoxgg"
      },
      "execution_count": 103,
      "outputs": []
    },
    {
      "cell_type": "code",
      "source": [
        "input_document = tokenizer.texts_to_sequences([\"see you\"])\n",
        "input_document = tf.keras.preprocessing.sequence.pad_sequences(input_document, maxlen=encoder_maxlen, padding='post', truncating='post')\n",
        "encoder_input = tf.expand_dims(input_document[0], 0)\n",
        "\n",
        "output = tf.expand_dims([tokenizer.word_index[\"[SOS]\"]], 0)\n",
        "\n",
        "predicted_token = next_word(transformer, encoder_input, output)\n",
        "print(f\"Predicted token: {predicted_token}\")\n",
        "\n",
        "predicted_word = tokenizer.sequences_to_texts(predicted_token.numpy())[0]\n",
        "print(f\"Predicted word: {predicted_word}\")"
      ],
      "metadata": {
        "colab": {
          "base_uri": "https://localhost:8080/"
        },
        "id": "BfxGgnQxSZ7a",
        "outputId": "2fa9be74-a806-4a97-8780-bbd0a2ceebe8"
      },
      "execution_count": 104,
      "outputs": [
        {
          "output_type": "stream",
          "name": "stdout",
          "text": [
            "Predicted token: [[30039]]\n",
            "Predicted word: puh\n"
          ]
        },
        {
          "output_type": "stream",
          "name": "stderr",
          "text": [
            "/usr/local/lib/python3.11/dist-packages/keras/src/ops/nn.py:907: UserWarning: You are using a softmax over axis 3 of a tensor of shape (1, 2, 1, 1). This axis has size 1. The softmax operation will always return the value 1, which is likely not what you intended. Did you mean to use a sigmoid instead?\n",
            "  warnings.warn(\n"
          ]
        }
      ]
    },
    {
      "cell_type": "code",
      "source": [
        "def summarize(model, input_document, decoder_maxlen):\n",
        "\n",
        "    \"A function for summarization using the transformer model\"\n",
        "\n",
        "    input_document = tokenizer.texts_to_sequences([input_document])\n",
        "\n",
        "    input_document = tf.keras.preprocessing.sequence.pad_sequences(\n",
        "        input_document,\n",
        "        maxlen = encoder_maxlen,\n",
        "        padding = 'post',\n",
        "        truncating = 'post'\n",
        "    )\n",
        "\n",
        "    encoder_input = tf.expand_dims(input_document[0], 0)\n",
        "\n",
        "    output = tf.expand_dims([tokenizer.word_index[\"[SOS]\"]], 0)\n",
        "\n",
        "    for i in range(decoder_maxlen):\n",
        "\n",
        "        predicted_id = next_word(model, encoder_input, output)\n",
        "        output = tf.concat([output, predicted_id], axis=-1)\n",
        "\n",
        "        if predicted_id == tokenizer.word_index[\"[EOS]\"]:\n",
        "            break\n",
        "\n",
        "    return tokenizer.sequences_to_texts(output.numpy())[0]"
      ],
      "metadata": {
        "id": "ry8mm4n8Wf5X"
      },
      "execution_count": 106,
      "outputs": []
    },
    {
      "cell_type": "code",
      "source": [
        "training_set_example = 0\n",
        "\n",
        "# Check a summary of a document from the training set\n",
        "print('Training set example:')\n",
        "print(document[training_set_example])\n",
        "print('\\nHuman written summary:')\n",
        "print(summary[training_set_example])\n",
        "print('\\nModel written summary:')\n",
        "summarize(transformer, document[training_set_example], decoder_maxlen)"
      ],
      "metadata": {
        "colab": {
          "base_uri": "https://localhost:8080/",
          "height": 192
        },
        "id": "IvAKlXt4Wfxr",
        "outputId": "3b7e65d7-3dc3-4886-ac1d-601501be6709"
      },
      "execution_count": 107,
      "outputs": [
        {
          "output_type": "stream",
          "name": "stdout",
          "text": [
            "Training set example:\n",
            "[SOS] amanda: i baked cookies. do you want some? jerry: sure! amanda: i'll bring you tomorrow :-) [EOS]\n",
            "\n",
            "Human written summary:\n",
            "[SOS] amanda baked cookies and will bring jerry some tomorrow. [EOS]\n",
            "\n",
            "Model written summary:\n"
          ]
        },
        {
          "output_type": "execute_result",
          "data": {
            "text/plain": [
              "\"[SOS] puh promptly terminates gr8 frittur ozan laaaast stapler loooong birthady flavoured towns shocks cleaners leonard's primal birthady ozan valentines maintains pigment morality decade decade kawasaki case floor extra determination determination determination cartman moldova kendrick robinson ddi chris'es robinson isn’t sloooow counseling determination waits waits aaaa assesment wirelessly valentines dilan convesation\""
            ],
            "application/vnd.google.colaboratory.intrinsic+json": {
              "type": "string"
            }
          },
          "metadata": {},
          "execution_count": 107
        }
      ]
    },
    {
      "cell_type": "markdown",
      "source": [
        "#Train the model"
      ],
      "metadata": {
        "id": "qfLHNP6Y0d9B"
      }
    },
    {
      "cell_type": "code",
      "source": [
        "epochs = 20\n",
        "number_of_batches = len(list(dataset))\n",
        "\n",
        "test_example = 0\n",
        "true_summary = summary_test[test_example]\n",
        "true_document = document_test[test_example]\n",
        "\n",
        "for epoch in range(epochs):\n",
        "\n",
        "    start = time.time()\n",
        "    train_loss.reset_state()\n",
        "\n",
        "    for batch, (inp, tar) in enumerate(dataset):\n",
        "\n",
        "        train_step(transformer, inp, tar)\n",
        "\n",
        "    print (f'Epoch {epoch + 1}, Loss {train_loss.result():.4f}')\n",
        "\n",
        "    losses.append(train_loss.result())\n",
        "\n",
        "    print (f'Time taken for one epoch: {time.time() - start} sec')\n",
        "    print('Example summarization on the test set:')\n",
        "    print('  True summarization:')\n",
        "    print(f'    {true_summary}')\n",
        "    print('  Predicted summarization:')\n",
        "    print(f'    {summarize(transformer, true_document, decoder_maxlen)}\\n')"
      ],
      "metadata": {
        "id": "zQ5J5nkkYXS1",
        "colab": {
          "base_uri": "https://localhost:8080/"
        },
        "collapsed": true,
        "outputId": "112be790-df48-4ebb-c4cb-ef0fea036c8b"
      },
      "execution_count": 108,
      "outputs": [
        {
          "output_type": "stream",
          "name": "stdout",
          "text": [
            "Epoch 1, Loss 9.9260\n",
            "Time taken for one epoch: 32.32589292526245 sec\n",
            "Example summarization on the test set:\n",
            "  True summarization:\n",
            "    [SOS] hannah needs betty's number but amanda doesn't have it. she needs to contact larry. [EOS]\n",
            "  Predicted summarization:\n",
            "    [SOS] [EOS]\n",
            "\n",
            "Epoch 2, Loss 7.7242\n",
            "Time taken for one epoch: 27.580942630767822 sec\n",
            "Example summarization on the test set:\n",
            "  True summarization:\n",
            "    [SOS] hannah needs betty's number but amanda doesn't have it. she needs to contact larry. [EOS]\n",
            "  Predicted summarization:\n",
            "    [SOS] [EOS]\n",
            "\n",
            "Epoch 3, Loss 6.6189\n",
            "Time taken for one epoch: 27.253843545913696 sec\n",
            "Example summarization on the test set:\n",
            "  True summarization:\n",
            "    [SOS] hannah needs betty's number but amanda doesn't have it. she needs to contact larry. [EOS]\n",
            "  Predicted summarization:\n",
            "    [SOS] is going to the [EOS]\n",
            "\n",
            "Epoch 4, Loss 5.9556\n",
            "Time taken for one epoch: 27.101184844970703 sec\n",
            "Example summarization on the test set:\n",
            "  True summarization:\n",
            "    [SOS] hannah needs betty's number but amanda doesn't have it. she needs to contact larry. [EOS]\n",
            "  Predicted summarization:\n",
            "    [SOS] the new new new new new new new new new new new new new new new new new new new new new new new new new new new new new new new new new new new new new new new new new new new new new new new new new\n",
            "\n",
            "Epoch 5, Loss 5.4914\n",
            "Time taken for one epoch: 27.192826986312866 sec\n",
            "Example summarization on the test set:\n",
            "  True summarization:\n",
            "    [SOS] hannah needs betty's number but amanda doesn't have it. she needs to contact larry. [EOS]\n",
            "  Predicted summarization:\n",
            "    [SOS] the new new new new new new job [EOS]\n",
            "\n",
            "Epoch 6, Loss 5.1883\n",
            "Time taken for one epoch: 27.159050226211548 sec\n",
            "Example summarization on the test set:\n",
            "  True summarization:\n",
            "    [SOS] hannah needs betty's number but amanda doesn't have it. she needs to contact larry. [EOS]\n",
            "  Predicted summarization:\n",
            "    [SOS] mike is going to go to the party [EOS]\n",
            "\n",
            "Epoch 7, Loss 4.9237\n",
            "Time taken for one epoch: 27.143218278884888 sec\n",
            "Example summarization on the test set:\n",
            "  True summarization:\n",
            "    [SOS] hannah needs betty's number but amanda doesn't have it. she needs to contact larry. [EOS]\n",
            "  Predicted summarization:\n",
            "    [SOS] mike is going to go with her [EOS]\n",
            "\n",
            "Epoch 8, Loss 4.6412\n",
            "Time taken for one epoch: 27.199764251708984 sec\n",
            "Example summarization on the test set:\n",
            "  True summarization:\n",
            "    [SOS] hannah needs betty's number but amanda doesn't have it. she needs to contact larry. [EOS]\n",
            "  Predicted summarization:\n",
            "    [SOS] hannah has just got her phone with her [EOS]\n",
            "\n",
            "Epoch 9, Loss 4.3406\n",
            "Time taken for one epoch: 27.1485595703125 sec\n",
            "Example summarization on the test set:\n",
            "  True summarization:\n",
            "    [SOS] hannah needs betty's number but amanda doesn't have it. she needs to contact larry. [EOS]\n",
            "  Predicted summarization:\n",
            "    [SOS] hannah is angry at the number and she will have a number [EOS]\n",
            "\n",
            "Epoch 10, Loss 4.0364\n",
            "Time taken for one epoch: 27.122023344039917 sec\n",
            "Example summarization on the test set:\n",
            "  True summarization:\n",
            "    [SOS] hannah needs betty's number but amanda doesn't have it. she needs to contact larry. [EOS]\n",
            "  Predicted summarization:\n",
            "    [SOS] hannah is going to take care of the number to him [EOS]\n",
            "\n",
            "Epoch 11, Loss 3.7270\n",
            "Time taken for one epoch: 27.144610166549683 sec\n",
            "Example summarization on the test set:\n",
            "  True summarization:\n",
            "    [SOS] hannah needs betty's number but amanda doesn't have it. she needs to contact larry. [EOS]\n",
            "  Predicted summarization:\n",
            "    [SOS] amanda is at work [EOS]\n",
            "\n",
            "Epoch 12, Loss 3.4274\n",
            "Time taken for one epoch: 27.14978313446045 sec\n",
            "Example summarization on the test set:\n",
            "  True summarization:\n",
            "    [SOS] hannah needs betty's number but amanda doesn't have it. she needs to contact larry. [EOS]\n",
            "  Predicted summarization:\n",
            "    [SOS] amanda is at work [EOS]\n",
            "\n",
            "Epoch 13, Loss 3.1354\n",
            "Time taken for one epoch: 27.160919189453125 sec\n",
            "Example summarization on the test set:\n",
            "  True summarization:\n",
            "    [SOS] hannah needs betty's number but amanda doesn't have it. she needs to contact larry. [EOS]\n",
            "  Predicted summarization:\n",
            "    [SOS] hannah will text hannah to go to the park today [EOS]\n",
            "\n",
            "Epoch 14, Loss 2.8672\n",
            "Time taken for one epoch: 27.186405181884766 sec\n",
            "Example summarization on the test set:\n",
            "  True summarization:\n",
            "    [SOS] hannah needs betty's number but amanda doesn't have it. she needs to contact larry. [EOS]\n",
            "  Predicted summarization:\n",
            "    [SOS] amanda is going to buy flowers with amanda [EOS]\n",
            "\n",
            "Epoch 15, Loss 2.6142\n",
            "Time taken for one epoch: 27.2181236743927 sec\n",
            "Example summarization on the test set:\n",
            "  True summarization:\n",
            "    [SOS] hannah needs betty's number but amanda doesn't have it. she needs to contact larry. [EOS]\n",
            "  Predicted summarization:\n",
            "    [SOS] amanda will try to find out after she doesn't want to go to the park [EOS]\n",
            "\n",
            "Epoch 16, Loss 2.3857\n",
            "Time taken for one epoch: 27.235374450683594 sec\n",
            "Example summarization on the test set:\n",
            "  True summarization:\n",
            "    [SOS] hannah needs betty's number but amanda doesn't have it. she needs to contact larry. [EOS]\n",
            "  Predicted summarization:\n",
            "    [SOS] amanda will check if she doesn't feel well [EOS]\n",
            "\n",
            "Epoch 17, Loss 2.1718\n",
            "Time taken for one epoch: 27.226278066635132 sec\n",
            "Example summarization on the test set:\n",
            "  True summarization:\n",
            "    [SOS] hannah needs betty's number but amanda doesn't have it. she needs to contact larry. [EOS]\n",
            "  Predicted summarization:\n",
            "    [SOS] amanda is worried about amanda and wants to go together [EOS]\n",
            "\n",
            "Epoch 18, Loss 1.9800\n",
            "Time taken for one epoch: 27.195590257644653 sec\n",
            "Example summarization on the test set:\n",
            "  True summarization:\n",
            "    [SOS] hannah needs betty's number but amanda doesn't have it. she needs to contact larry. [EOS]\n",
            "  Predicted summarization:\n",
            "    [SOS] amanda is looking forward to amanda [EOS]\n",
            "\n",
            "Epoch 19, Loss 1.7753\n",
            "Time taken for one epoch: 27.188947916030884 sec\n",
            "Example summarization on the test set:\n",
            "  True summarization:\n",
            "    [SOS] hannah needs betty's number but amanda doesn't have it. she needs to contact larry. [EOS]\n",
            "  Predicted summarization:\n",
            "    [SOS] amanda will let amanda know when she was at the park [EOS]\n",
            "\n",
            "Epoch 20, Loss 1.5857\n",
            "Time taken for one epoch: 27.180142641067505 sec\n",
            "Example summarization on the test set:\n",
            "  True summarization:\n",
            "    [SOS] hannah needs betty's number but amanda doesn't have it. she needs to contact larry. [EOS]\n",
            "  Predicted summarization:\n",
            "    [SOS] amanda is going to get caught [EOS]\n",
            "\n"
          ]
        }
      ]
    },
    {
      "cell_type": "code",
      "source": [
        "plt.plot(losses)\n",
        "plt.ylabel('Loss')\n",
        "plt.xlabel('Epoch')"
      ],
      "metadata": {
        "colab": {
          "base_uri": "https://localhost:8080/",
          "height": 466
        },
        "id": "NUcTjfNUmUkL",
        "outputId": "2963a4a1-3c29-465e-d3f5-7a2f976bbe36"
      },
      "execution_count": 109,
      "outputs": [
        {
          "output_type": "execute_result",
          "data": {
            "text/plain": [
              "Text(0.5, 0, 'Epoch')"
            ]
          },
          "metadata": {},
          "execution_count": 109
        },
        {
          "output_type": "display_data",
          "data": {
            "text/plain": [
              "<Figure size 640x480 with 1 Axes>"
            ],
            "image/png": "[encoded data removed]"
          },
          "metadata": {}
        }
      ]
    },
    {
      "cell_type": "code",
      "source": [
        "save_dir = \"model.weights.h5\""
      ],
      "metadata": {
        "id": "QzaZXUKmJuey"
      },
      "execution_count": 112,
      "outputs": []
    },
    {
      "cell_type": "code",
      "source": [
        "# transformer.save_weights(save_dir)"
      ],
      "metadata": {
        "id": "4BP5rlqK8ZlW"
      },
      "execution_count": 113,
      "outputs": []
    },
    {
      "cell_type": "code",
      "source": [
        "transformer.load_weights(save_dir)"
      ],
      "metadata": {
        "id": "hJkVNHQhKBT1"
      },
      "execution_count": 114,
      "outputs": []
    },
    {
      "cell_type": "code",
      "source": [
        "training_set_example = 41\n",
        "\n",
        "# Check a summary of a document from the training set\n",
        "print('Training set example:')\n",
        "print(document_test[training_set_example])\n",
        "print('\\nHuman written summary:')\n",
        "print(summary_test[training_set_example])\n",
        "print('\\nModel written summary:')\n",
        "print(summarize(transformer, document_test[training_set_example], decoder_maxlen))"
      ],
      "metadata": {
        "colab": {
          "base_uri": "https://localhost:8080/"
        },
        "id": "5OpE6p3R3yap",
        "outputId": "ad8d153d-5fc6-4f89-d3d0-662661556300"
      },
      "execution_count": 129,
      "outputs": [
        {
          "output_type": "stream",
          "name": "stdout",
          "text": [
            "Training set example:\n",
            "[SOS] frank: son, will you come home this weekend? son: not sure yet. something happened? frank: of course not. your mother miss you. son: i miss her too. frank: so will you com? son: i will try. frank: good, i will tell your mother that you will come son: oh, dad.. ok i will come. [EOS]\n",
            "\n",
            "Human written summary:\n",
            "[SOS] son is coming to see his parents' this weekend. [EOS]\n",
            "\n",
            "Model written summary:\n",
            "[SOS] frank will come home to visit his mother [EOS]\n"
          ]
        }
      ]
    }
  ]
}